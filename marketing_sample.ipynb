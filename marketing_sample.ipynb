{
 "cells": [
  {
   "cell_type": "code",
   "execution_count": 5,
   "id": "56fb728d",
   "metadata": {},
   "outputs": [],
   "source": [
    "import pandas as pd\n",
    "#import matplotlib_inline as pyplot\n",
    "pd.set_option('display.max_columns', None)"
   ]
  },
  {
   "cell_type": "code",
   "execution_count": 6,
   "id": "813efff5",
   "metadata": {},
   "outputs": [],
   "source": [
    "user_data = {\n",
    "    'user_id': [1, 2, 3, 4, 5, 6, 7, 8, 9, 10, 11, 12, 13, 14, 15, 16, 17, 18, 19, 20],\n",
    "    'days_since_last_open': [1, 7, 14, 2, 30, 3, 60, 1, 45, 5, 0, 90, 21, 4, 120, 2, 35, 8, 180, 6],\n",
    "    'avg_session_duration_mins': [25, 45, 10, 60, 5, 40, 2, 55, 8, 35, 75, 0, 15, 50, 1, 65, 12, 38, 0, 42],\n",
    "    'messages_received_last_30d': [5, 12, 8, 3, 15, 6, 20, 4, 18, 7, 2, 25, 10, 9, 30, 3, 14, 11, 35, 8],\n",
    "    'messages_clicked_last_30d': [2, 8, 1, 2, 0, 4, 0, 3, 1, 5, 2, 0, 3, 7, 0, 3, 2, 6, 0, 4],\n",
    "    'subscription_tenure_months': [12, 6, 24, 3, 36, 9, 48, 1, 18, 15, 2, 60, 30, 4, 72, 1, 20, 8, 84, 11],\n",
    "    'device_type': ['iPhone', 'iPad', 'AppleTV', 'iPhone', 'iPad', 'iPhone', 'AppleTV', 'iPhone', 'iPad', 'iPhone', 'iPhone', 'AppleTV', 'iPad', 'iPhone', 'AppleTV', 'iPhone', 'iPad', 'iPhone', 'AppleTV', 'iPhone'],\n",
    "    'previous_purchases': [5, 0, 12, 1, 0, 8, 0, 2, 3, 6, 0, 15, 4, 1, 0, 0, 7, 3, 20, 2]\n",
    "}\n"
   ]
  },
  {
   "cell_type": "code",
   "execution_count": 8,
   "id": "b9b21b87",
   "metadata": {},
   "outputs": [
    {
     "data": {
      "text/html": [
       "<div>\n",
       "<style scoped>\n",
       "    .dataframe tbody tr th:only-of-type {\n",
       "        vertical-align: middle;\n",
       "    }\n",
       "\n",
       "    .dataframe tbody tr th {\n",
       "        vertical-align: top;\n",
       "    }\n",
       "\n",
       "    .dataframe thead th {\n",
       "        text-align: right;\n",
       "    }\n",
       "</style>\n",
       "<table border=\"1\" class=\"dataframe\">\n",
       "  <thead>\n",
       "    <tr style=\"text-align: right;\">\n",
       "      <th></th>\n",
       "      <th>user_id</th>\n",
       "      <th>days_since_last_open</th>\n",
       "      <th>avg_session_duration_mins</th>\n",
       "      <th>messages_received_last_30d</th>\n",
       "      <th>messages_clicked_last_30d</th>\n",
       "      <th>subscription_tenure_months</th>\n",
       "      <th>device_type</th>\n",
       "      <th>previous_purchases</th>\n",
       "    </tr>\n",
       "  </thead>\n",
       "  <tbody>\n",
       "    <tr>\n",
       "      <th>0</th>\n",
       "      <td>1</td>\n",
       "      <td>1</td>\n",
       "      <td>25</td>\n",
       "      <td>5</td>\n",
       "      <td>2</td>\n",
       "      <td>12</td>\n",
       "      <td>iPhone</td>\n",
       "      <td>5</td>\n",
       "    </tr>\n",
       "  </tbody>\n",
       "</table>\n",
       "</div>"
      ],
      "text/plain": [
       "   user_id  days_since_last_open  avg_session_duration_mins  \\\n",
       "0        1                     1                         25   \n",
       "\n",
       "   messages_received_last_30d  messages_clicked_last_30d  \\\n",
       "0                           5                          2   \n",
       "\n",
       "   subscription_tenure_months device_type  previous_purchases  \n",
       "0                          12      iPhone                   5  "
      ]
     },
     "execution_count": 8,
     "metadata": {},
     "output_type": "execute_result"
    }
   ],
   "source": [
    "df = pd.DataFrame(user_data)\n",
    "df.head(1)"
   ]
  },
  {
   "cell_type": "code",
   "execution_count": 9,
   "id": "93d061b2",
   "metadata": {},
   "outputs": [
    {
     "name": "stdout",
     "output_type": "stream",
     "text": [
      "(20, 8)\n"
     ]
    }
   ],
   "source": [
    "print(df.shape)"
   ]
  },
  {
   "cell_type": "code",
   "execution_count": 11,
   "id": "c02894af",
   "metadata": {},
   "outputs": [
    {
     "name": "stdout",
     "output_type": "stream",
     "text": [
      "<class 'pandas.core.frame.DataFrame'>\n",
      "RangeIndex: 20 entries, 0 to 19\n",
      "Data columns (total 8 columns):\n",
      " #   Column                      Non-Null Count  Dtype \n",
      "---  ------                      --------------  ----- \n",
      " 0   user_id                     20 non-null     int64 \n",
      " 1   days_since_last_open        20 non-null     int64 \n",
      " 2   avg_session_duration_mins   20 non-null     int64 \n",
      " 3   messages_received_last_30d  20 non-null     int64 \n",
      " 4   messages_clicked_last_30d   20 non-null     int64 \n",
      " 5   subscription_tenure_months  20 non-null     int64 \n",
      " 6   device_type                 20 non-null     object\n",
      " 7   previous_purchases          20 non-null     int64 \n",
      "dtypes: int64(7), object(1)\n",
      "memory usage: 1.4+ KB\n"
     ]
    }
   ],
   "source": [
    "df.info()"
   ]
  },
  {
   "cell_type": "code",
   "execution_count": 10,
   "id": "2e4b1485",
   "metadata": {},
   "outputs": [
    {
     "name": "stdout",
     "output_type": "stream",
     "text": [
      "        user_id  days_since_last_open  avg_session_duration_mins  \\\n",
      "count  20.00000             20.000000                  20.000000   \n",
      "mean   10.50000             31.700000                  29.150000   \n",
      "std     5.91608             47.792424                  24.307839   \n",
      "min     1.00000              0.000000                   0.000000   \n",
      "25%     5.75000              2.750000                   7.250000   \n",
      "50%    10.50000              7.500000                  30.000000   \n",
      "75%    15.25000             37.500000                  46.250000   \n",
      "max    20.00000            180.000000                  75.000000   \n",
      "\n",
      "       messages_received_last_30d  messages_clicked_last_30d  \\\n",
      "count                   20.000000                   20.00000   \n",
      "mean                    12.250000                    2.65000   \n",
      "std                      9.221685                    2.41214   \n",
      "min                      2.000000                    0.00000   \n",
      "25%                      5.750000                    0.75000   \n",
      "50%                      9.500000                    2.00000   \n",
      "75%                     15.750000                    4.00000   \n",
      "max                     35.000000                    8.00000   \n",
      "\n",
      "       subscription_tenure_months  previous_purchases  \n",
      "count                   20.000000           20.000000  \n",
      "mean                    23.200000            4.450000  \n",
      "std                     24.684536            5.576973  \n",
      "min                      1.000000            0.000000  \n",
      "25%                      5.500000            0.000000  \n",
      "50%                     13.500000            2.500000  \n",
      "75%                     31.500000            6.250000  \n",
      "max                     84.000000           20.000000  \n"
     ]
    }
   ],
   "source": [
    "#Statistics of the Data: Mean Session Duration \n",
    "print(df.describe())"
   ]
  },
  {
   "cell_type": "code",
   "execution_count": null,
   "id": "e02a36cd",
   "metadata": {},
   "outputs": [],
   "source": [
    "#Apple TV has longest days since open \n",
    "print(df.groupby('device_type').sum())\n",
    "#in app messaging. is it worth is to send these messages? who are the power users? is there anything we can uncover from a power user and why it works for them versus a regular user? \n",
    "#visualize key metric "
   ]
  },
  {
   "cell_type": "code",
   "execution_count": 12,
   "id": "fe2a44b1",
   "metadata": {},
   "outputs": [],
   "source": [
    "df_power_user = df[df['avg_session_duration_mins'] > 29.1]\n",
    "df_infrequent_user = df[df['avg_session_duration_mins'] < 29.1]\n",
    "# Users with >60 days since last open but still receiving messages\n",
    "# print('<<<inactive users')\n",
    "# df_inactive_user_60days = df[df['days_since_last_open'] > 60]\n",
    "# print(\"IDS of inactive users\", df_inactive_user_60days)\n",
    "# print(df_inactive_user_60days.describe())\n"
   ]
  },
  {
   "cell_type": "code",
   "execution_count": null,
   "id": "c1e05f5b",
   "metadata": {},
   "outputs": [],
   "source": [
    "#feature engineering\n",
    "#engagement rate: session duration and recency. clicks per session per minute \n",
    "df['Engagement Rate'] = df['messages_clicked_last_30d'] / df['messages_received_last_30d'] \n",
    "print('Engagement Rate')\n",
    "print(df.head())\n"
   ]
  }
 ],
 "metadata": {
  "kernelspec": {
   "display_name": "3.10.0",
   "language": "python",
   "name": "python3"
  },
  "language_info": {
   "codemirror_mode": {
    "name": "ipython",
    "version": 3
   },
   "file_extension": ".py",
   "mimetype": "text/x-python",
   "name": "python",
   "nbconvert_exporter": "python",
   "pygments_lexer": "ipython3",
   "version": "3.10.0"
  }
 },
 "nbformat": 4,
 "nbformat_minor": 5
}
